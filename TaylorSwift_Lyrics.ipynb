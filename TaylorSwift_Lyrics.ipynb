{
  "nbformat": 4,
  "nbformat_minor": 0,
  "metadata": {
    "colab": {
      "name": "TaylorSwift_Lyrics.ipynb",
      "provenance": [],
      "collapsed_sections": []
    },
    "kernelspec": {
      "name": "python3",
      "display_name": "Python 3"
    },
    "accelerator": "GPU"
  },
  "cells": [
    {
      "cell_type": "markdown",
      "metadata": {
        "id": "ByemEPRi4hOz"
      },
      "source": [
        "# Lyrics Generation with Deep Learning\r\n",
        "\r\n",
        "In this notebook we will use the dataset: [Taylor Swift Song Lyrics from all the albums](https://www.kaggle.com/PromptCloudHQ/taylor-swift-song-lyrics-from-all-the-albums) from Kaggle.\r\n",
        "\r\n",
        "And will try to generate new lines of lyrics with a few words as a jumpstart.\r\n"
      ]
    },
    {
      "cell_type": "code",
      "metadata": {
        "id": "U3mZiZHs4e24"
      },
      "source": [
        "# This data is stored in my drive and link has been used here.\r\n",
        "# Feel free to download or use this raw link directly as well\r\n",
        "\r\n",
        "data = 'https://raw.githubusercontent.com/aravind-naidu/Lyrics-Generator/main/taylor_swift_lyrics.csv'"
      ],
      "execution_count": 24,
      "outputs": []
    },
    {
      "cell_type": "markdown",
      "metadata": {
        "id": "zNKW3aQq6Y5U"
      },
      "source": [
        "# Importing Libraries"
      ]
    },
    {
      "cell_type": "code",
      "metadata": {
        "id": "FqHes0Y_5N3W"
      },
      "source": [
        "import pandas as pd\r\n",
        "import numpy as np\r\n",
        "\r\n",
        "from keras.preprocessing.text import Tokenizer\r\n",
        "from keras.preprocessing.sequence import pad_sequences\r\n",
        "import tensorflow.keras.utils as ku \r\n",
        "\r\n",
        "from keras.models import Sequential\r\n",
        "from keras.layers import Embedding, LSTM, Dense, Dropout, Bidirectional\r\n",
        "from keras.regularizers import Regularizer\r\n",
        "\r\n",
        "import matplotlib.pyplot as plt\r\n",
        "import seaborn as sns"
      ],
      "execution_count": 25,
      "outputs": []
    },
    {
      "cell_type": "markdown",
      "metadata": {
        "id": "W5U5b0VkALiq"
      },
      "source": [
        "# Importing Dataset\r\n",
        "I faced some encoding errors while importing data without the \"encoding\" type perameter. \r\n",
        "\r\n",
        "And had to use 'unicode_escape'."
      ]
    },
    {
      "cell_type": "code",
      "metadata": {
        "colab": {
          "base_uri": "https://localhost:8080/",
          "height": 206
        },
        "id": "pIhDCMlf5VOv",
        "outputId": "12412abc-e0c9-4feb-a17d-e0a52d3e9bba"
      },
      "source": [
        "df = pd.read_csv(data, encoding= 'unicode_escape')\r\n",
        "df.head()"
      ],
      "execution_count": 26,
      "outputs": [
        {
          "output_type": "execute_result",
          "data": {
            "text/html": [
              "<div>\n",
              "<style scoped>\n",
              "    .dataframe tbody tr th:only-of-type {\n",
              "        vertical-align: middle;\n",
              "    }\n",
              "\n",
              "    .dataframe tbody tr th {\n",
              "        vertical-align: top;\n",
              "    }\n",
              "\n",
              "    .dataframe thead th {\n",
              "        text-align: right;\n",
              "    }\n",
              "</style>\n",
              "<table border=\"1\" class=\"dataframe\">\n",
              "  <thead>\n",
              "    <tr style=\"text-align: right;\">\n",
              "      <th></th>\n",
              "      <th>artist</th>\n",
              "      <th>album</th>\n",
              "      <th>track_title</th>\n",
              "      <th>track_n</th>\n",
              "      <th>lyric</th>\n",
              "      <th>line</th>\n",
              "      <th>year</th>\n",
              "    </tr>\n",
              "  </thead>\n",
              "  <tbody>\n",
              "    <tr>\n",
              "      <th>0</th>\n",
              "      <td>Taylor Swift</td>\n",
              "      <td>Taylor Swift</td>\n",
              "      <td>Tim McGraw</td>\n",
              "      <td>1</td>\n",
              "      <td>He said the way my blue eyes shined</td>\n",
              "      <td>1</td>\n",
              "      <td>2006</td>\n",
              "    </tr>\n",
              "    <tr>\n",
              "      <th>1</th>\n",
              "      <td>Taylor Swift</td>\n",
              "      <td>Taylor Swift</td>\n",
              "      <td>Tim McGraw</td>\n",
              "      <td>1</td>\n",
              "      <td>Put those Georgia stars to shame that night</td>\n",
              "      <td>2</td>\n",
              "      <td>2006</td>\n",
              "    </tr>\n",
              "    <tr>\n",
              "      <th>2</th>\n",
              "      <td>Taylor Swift</td>\n",
              "      <td>Taylor Swift</td>\n",
              "      <td>Tim McGraw</td>\n",
              "      <td>1</td>\n",
              "      <td>I said, \"That's a lie\"</td>\n",
              "      <td>3</td>\n",
              "      <td>2006</td>\n",
              "    </tr>\n",
              "    <tr>\n",
              "      <th>3</th>\n",
              "      <td>Taylor Swift</td>\n",
              "      <td>Taylor Swift</td>\n",
              "      <td>Tim McGraw</td>\n",
              "      <td>1</td>\n",
              "      <td>Just a boy in a Chevy truck</td>\n",
              "      <td>4</td>\n",
              "      <td>2006</td>\n",
              "    </tr>\n",
              "    <tr>\n",
              "      <th>4</th>\n",
              "      <td>Taylor Swift</td>\n",
              "      <td>Taylor Swift</td>\n",
              "      <td>Tim McGraw</td>\n",
              "      <td>1</td>\n",
              "      <td>That had a tendency of gettin' stuck</td>\n",
              "      <td>5</td>\n",
              "      <td>2006</td>\n",
              "    </tr>\n",
              "  </tbody>\n",
              "</table>\n",
              "</div>"
            ],
            "text/plain": [
              "         artist         album  ... line  year\n",
              "0  Taylor Swift  Taylor Swift  ...    1  2006\n",
              "1  Taylor Swift  Taylor Swift  ...    2  2006\n",
              "2  Taylor Swift  Taylor Swift  ...    3  2006\n",
              "3  Taylor Swift  Taylor Swift  ...    4  2006\n",
              "4  Taylor Swift  Taylor Swift  ...    5  2006\n",
              "\n",
              "[5 rows x 7 columns]"
            ]
          },
          "metadata": {
            "tags": []
          },
          "execution_count": 26
        }
      ]
    },
    {
      "cell_type": "markdown",
      "metadata": {
        "id": "XlQoVizoAkoe"
      },
      "source": [
        "# Knowing the dataset more..."
      ]
    },
    {
      "cell_type": "code",
      "metadata": {
        "colab": {
          "base_uri": "https://localhost:8080/"
        },
        "id": "hIwZLM-y6h69",
        "outputId": "e094586a-efa6-4b93-f161-0af200221b50"
      },
      "source": [
        "df.shape"
      ],
      "execution_count": 27,
      "outputs": [
        {
          "output_type": "execute_result",
          "data": {
            "text/plain": [
              "(4862, 7)"
            ]
          },
          "metadata": {
            "tags": []
          },
          "execution_count": 27
        }
      ]
    },
    {
      "cell_type": "code",
      "metadata": {
        "colab": {
          "base_uri": "https://localhost:8080/"
        },
        "id": "DpVY-AtJ6kI-",
        "outputId": "f7a5a4ac-8dff-46a9-9e23-fb638d44bc09"
      },
      "source": [
        "df.info()"
      ],
      "execution_count": 28,
      "outputs": [
        {
          "output_type": "stream",
          "text": [
            "<class 'pandas.core.frame.DataFrame'>\n",
            "RangeIndex: 4862 entries, 0 to 4861\n",
            "Data columns (total 7 columns):\n",
            " #   Column       Non-Null Count  Dtype \n",
            "---  ------       --------------  ----- \n",
            " 0   artist       4862 non-null   object\n",
            " 1   album        4862 non-null   object\n",
            " 2   track_title  4862 non-null   object\n",
            " 3   track_n      4862 non-null   int64 \n",
            " 4   lyric        4862 non-null   object\n",
            " 5   line         4862 non-null   int64 \n",
            " 6   year         4862 non-null   int64 \n",
            "dtypes: int64(3), object(4)\n",
            "memory usage: 266.0+ KB\n"
          ],
          "name": "stdout"
        }
      ]
    },
    {
      "cell_type": "code",
      "metadata": {
        "colab": {
          "base_uri": "https://localhost:8080/",
          "height": 401
        },
        "id": "hUR9BX1y8KKG",
        "outputId": "aafd42fd-b9e2-4db9-8ff0-c772c48156ba"
      },
      "source": [
        "sns.catplot(x=\"album\",data=df,kind=\"count\")"
      ],
      "execution_count": 29,
      "outputs": [
        {
          "output_type": "execute_result",
          "data": {
            "text/plain": [
              "<seaborn.axisgrid.FacetGrid at 0x7fde502e5f90>"
            ]
          },
          "metadata": {
            "tags": []
          },
          "execution_count": 29
        },
        {
          "output_type": "display_data",
          "data": {
            "image/png": "[encoded data removed]",
            "text/plain": [
              "<Figure size 360x360 with 1 Axes>"
            ]
          },
          "metadata": {
            "tags": [],
            "needs_background": "light"
          }
        }
      ]
    },
    {
      "cell_type": "code",
      "metadata": {
        "colab": {
          "base_uri": "https://localhost:8080/"
        },
        "id": "IX7u4Mdg8OgG",
        "outputId": "802e5532-0241-496e-e0fa-3dd85bd3e4e4"
      },
      "source": [
        "df['track_title'].nunique()"
      ],
      "execution_count": 30,
      "outputs": [
        {
          "output_type": "execute_result",
          "data": {
            "text/plain": [
              "94"
            ]
          },
          "metadata": {
            "tags": []
          },
          "execution_count": 30
        }
      ]
    },
    {
      "cell_type": "code",
      "metadata": {
        "colab": {
          "base_uri": "https://localhost:8080/"
        },
        "id": "XrVApWea8cg-",
        "outputId": "e7529f4c-46b5-4626-f222-9cd330f1a0d4"
      },
      "source": [
        "df['track_n'].unique()"
      ],
      "execution_count": 31,
      "outputs": [
        {
          "output_type": "execute_result",
          "data": {
            "text/plain": [
              "array([ 1,  2,  3,  4,  5,  6,  7,  8,  9, 10, 11, 12, 13, 14, 15, 16, 17,\n",
              "       18, 19])"
            ]
          },
          "metadata": {
            "tags": []
          },
          "execution_count": 31
        }
      ]
    },
    {
      "cell_type": "code",
      "metadata": {
        "colab": {
          "base_uri": "https://localhost:8080/",
          "height": 401
        },
        "id": "ipTRJjsG8gbu",
        "outputId": "706e8b9a-2ff0-4b26-a9c7-7400e92500d7"
      },
      "source": [
        "sns.catplot(x=\"year\",data=df,kind=\"count\")"
      ],
      "execution_count": 32,
      "outputs": [
        {
          "output_type": "execute_result",
          "data": {
            "text/plain": [
              "<seaborn.axisgrid.FacetGrid at 0x7fde5024a2d0>"
            ]
          },
          "metadata": {
            "tags": []
          },
          "execution_count": 32
        },
        {
          "output_type": "display_data",
          "data": {
            "image/png": "[encoded data removed]",
            "text/plain": [
              "<Figure size 360x360 with 1 Axes>"
            ]
          },
          "metadata": {
            "tags": [],
            "needs_background": "light"
          }
        }
      ]
    },
    {
      "cell_type": "markdown",
      "metadata": {
        "id": "BCV9A8NZAo8O"
      },
      "source": [
        "# Making a Corpus\r\n",
        "Making use of the column with lyrics and making a corpus of all the lines."
      ]
    },
    {
      "cell_type": "code",
      "metadata": {
        "id": "GVKEdRps7ZiO"
      },
      "source": [
        "corpus = []\r\n",
        "for line in df['lyric']:\r\n",
        "  lowered_line = line.lower()\r\n",
        "  corpus.append(lowered_line)"
      ],
      "execution_count": 33,
      "outputs": []
    },
    {
      "cell_type": "code",
      "metadata": {
        "colab": {
          "base_uri": "https://localhost:8080/"
        },
        "id": "uCiFCbr17uMl",
        "outputId": "5161328f-efff-4275-b4ac-89dcbbc21a66"
      },
      "source": [
        "corpus[:20]"
      ],
      "execution_count": 34,
      "outputs": [
        {
          "output_type": "execute_result",
          "data": {
            "text/plain": [
              "['he said the way my blue eyes shined',\n",
              " 'put those georgia stars to shame that night',\n",
              " 'i said, \"that\\'s a lie\"',\n",
              " 'just a boy in a chevy truck',\n",
              " \"that had a tendency of gettin' stuck\",\n",
              " 'on backroads at night',\n",
              " 'and i was right there beside him all summer long',\n",
              " 'and then the time we woke up to find that summer gone',\n",
              " 'but when you think tim mcgraw',\n",
              " 'i hope you think my favorite song',\n",
              " 'the one we danced to all night long',\n",
              " 'the moon like a spotlight on the lake',\n",
              " 'when you think happiness',\n",
              " 'i hope you think that little black dress',\n",
              " 'think of my head on your chest',\n",
              " 'and my old faded blue jeans',\n",
              " 'when you think tim mcgraw',\n",
              " 'i hope you think of me',\n",
              " 'september saw a month of tears',\n",
              " \"and thankin' god that you weren't here\"]"
            ]
          },
          "metadata": {
            "tags": []
          },
          "execution_count": 34
        }
      ]
    },
    {
      "cell_type": "markdown",
      "metadata": {
        "id": "XFQmKaI19lPd"
      },
      "source": [
        "# Data Cleaning"
      ]
    },
    {
      "cell_type": "code",
      "metadata": {
        "id": "TWugMFG6ofq6"
      },
      "source": [
        "tok = Tokenizer()\r\n",
        "\r\n",
        "tok.fit_on_texts(corpus)\r\n",
        "total_words = len(tok.word_index) + 1"
      ],
      "execution_count": 35,
      "outputs": []
    },
    {
      "cell_type": "code",
      "metadata": {
        "id": "MYCl5eidogMz"
      },
      "source": [
        "seq = []\r\n",
        "for line in corpus:\r\n",
        "    token_list = tok.texts_to_sequences([line])[0]\r\n",
        "    for i in range(1, len(token_list)):\r\n",
        "        n_gram_sequence = token_list[:i+1]\r\n",
        "        seq.append(n_gram_sequence)"
      ],
      "execution_count": 36,
      "outputs": []
    },
    {
      "cell_type": "code",
      "metadata": {
        "id": "ESWD44mzolAj"
      },
      "source": [
        "max_sequence_len = max([len(x) for x in seq])\r\n",
        "seq = np.array(pad_sequences(seq, maxlen=max_sequence_len, padding='pre'))"
      ],
      "execution_count": 37,
      "outputs": []
    },
    {
      "cell_type": "code",
      "metadata": {
        "id": "28Zd_dOqomHz"
      },
      "source": [
        "predictors, label = seq[:,:-1],seq[:,-1]"
      ],
      "execution_count": 38,
      "outputs": []
    },
    {
      "cell_type": "code",
      "metadata": {
        "id": "h_j9MumXonJP"
      },
      "source": [
        "label = ku.to_categorical(label, num_classes=total_words)"
      ],
      "execution_count": 39,
      "outputs": []
    },
    {
      "cell_type": "code",
      "metadata": {
        "colab": {
          "base_uri": "https://localhost:8080/"
        },
        "id": "eaHanc9C_BR1",
        "outputId": "09435ad4-62fd-4f6c-84ed-70765c1a85ff"
      },
      "source": [
        "print(\"Size of Input Sequences\", seq.shape[1])"
      ],
      "execution_count": 40,
      "outputs": [
        {
          "output_type": "stream",
          "text": [
            "Size of Input Sequences 18\n"
          ],
          "name": "stdout"
        }
      ]
    },
    {
      "cell_type": "markdown",
      "metadata": {
        "id": "YeEbdS69A6Y2"
      },
      "source": [
        "# Making a Model\r\n",
        "We are using a Embedding layer with Bidirectional LSTM and LSTM.\r\n",
        "\r\n",
        "We also add, Dropout layer and output layers. And use Adam Optimizer."
      ]
    },
    {
      "cell_type": "code",
      "metadata": {
        "colab": {
          "base_uri": "https://localhost:8080/"
        },
        "id": "M1TrVzE0_cfN",
        "outputId": "3e83d649-8db9-43d6-ca72-26d5255a4170"
      },
      "source": [
        "model = Sequential()\r\n",
        "model.add(Embedding(total_words, 50, input_length=max_sequence_len-1))  \r\n",
        "model.add(Bidirectional(LSTM(150, return_sequences=True)))  \r\n",
        "model.add(Dropout(0.2))  \r\n",
        "model.add(LSTM(100))  \r\n",
        "model.add(Dense(total_words/2, activation='relu'))  \r\n",
        "model.add(Dense(total_words, activation='softmax'))  \r\n",
        "model.compile(loss='categorical_crossentropy', optimizer='adam', metrics='accuracy')  \r\n",
        "print(model.summary())"
      ],
      "execution_count": 41,
      "outputs": [
        {
          "output_type": "stream",
          "text": [
            "Model: \"sequential_1\"\n",
            "_________________________________________________________________\n",
            "Layer (type)                 Output Shape              Param #   \n",
            "=================================================================\n",
            "embedding_1 (Embedding)      (None, 17, 50)            120400    \n",
            "_________________________________________________________________\n",
            "bidirectional_1 (Bidirection (None, 17, 300)           241200    \n",
            "_________________________________________________________________\n",
            "dropout_1 (Dropout)          (None, 17, 300)           0         \n",
            "_________________________________________________________________\n",
            "lstm_3 (LSTM)                (None, 100)               160400    \n",
            "_________________________________________________________________\n",
            "dense_2 (Dense)              (None, 1204)              121604    \n",
            "_________________________________________________________________\n",
            "dense_3 (Dense)              (None, 2408)              2901640   \n",
            "=================================================================\n",
            "Total params: 3,545,244\n",
            "Trainable params: 3,545,244\n",
            "Non-trainable params: 0\n",
            "_________________________________________________________________\n",
            "None\n"
          ],
          "name": "stdout"
        }
      ]
    },
    {
      "cell_type": "code",
      "metadata": {
        "colab": {
          "base_uri": "https://localhost:8080/"
        },
        "id": "h_-4BJng_oxk",
        "outputId": "33cae38b-5230-403d-ad25-77ca012d4fd5"
      },
      "source": [
        "hist = model.fit(predictors, label, epochs= 100, verbose=1)"
      ],
      "execution_count": 42,
      "outputs": [
        {
          "output_type": "stream",
          "text": [
            "Epoch 1/100\n",
            "957/957 [==============================] - 60s 28ms/step - loss: 6.1463 - accuracy: 0.0496\n",
            "Epoch 2/100\n",
            "957/957 [==============================] - 27s 28ms/step - loss: 5.3330 - accuracy: 0.0702\n",
            "Epoch 3/100\n",
            "957/957 [==============================] - 27s 28ms/step - loss: 4.9708 - accuracy: 0.0985\n",
            "Epoch 4/100\n",
            "957/957 [==============================] - 27s 28ms/step - loss: 4.6442 - accuracy: 0.1274\n",
            "Epoch 5/100\n",
            "957/957 [==============================] - 27s 28ms/step - loss: 4.3698 - accuracy: 0.1558\n",
            "Epoch 6/100\n",
            "957/957 [==============================] - 27s 28ms/step - loss: 4.1250 - accuracy: 0.1835\n",
            "Epoch 7/100\n",
            "957/957 [==============================] - 27s 28ms/step - loss: 3.8661 - accuracy: 0.2074\n",
            "Epoch 8/100\n",
            "957/957 [==============================] - 27s 28ms/step - loss: 3.6563 - accuracy: 0.2328\n",
            "Epoch 9/100\n",
            "957/957 [==============================] - 27s 28ms/step - loss: 3.4578 - accuracy: 0.2629\n",
            "Epoch 10/100\n",
            "957/957 [==============================] - 27s 28ms/step - loss: 3.2071 - accuracy: 0.2982\n",
            "Epoch 11/100\n",
            "957/957 [==============================] - 27s 28ms/step - loss: 2.9996 - accuracy: 0.3296\n",
            "Epoch 12/100\n",
            "957/957 [==============================] - 27s 28ms/step - loss: 2.8123 - accuracy: 0.3554\n",
            "Epoch 13/100\n",
            "957/957 [==============================] - 27s 28ms/step - loss: 2.6257 - accuracy: 0.3865\n",
            "Epoch 14/100\n",
            "957/957 [==============================] - 27s 28ms/step - loss: 2.4272 - accuracy: 0.4213\n",
            "Epoch 15/100\n",
            "957/957 [==============================] - 27s 28ms/step - loss: 2.2708 - accuracy: 0.4509\n",
            "Epoch 16/100\n",
            "957/957 [==============================] - 27s 28ms/step - loss: 2.0949 - accuracy: 0.4843\n",
            "Epoch 17/100\n",
            "957/957 [==============================] - 27s 28ms/step - loss: 1.9532 - accuracy: 0.5088\n",
            "Epoch 18/100\n",
            "957/957 [==============================] - 27s 28ms/step - loss: 1.8597 - accuracy: 0.5317\n",
            "Epoch 19/100\n",
            "957/957 [==============================] - 27s 28ms/step - loss: 1.7403 - accuracy: 0.5548\n",
            "Epoch 20/100\n",
            "957/957 [==============================] - 27s 28ms/step - loss: 1.6299 - accuracy: 0.5782\n",
            "Epoch 21/100\n",
            "957/957 [==============================] - 27s 28ms/step - loss: 1.5325 - accuracy: 0.6015\n",
            "Epoch 22/100\n",
            "957/957 [==============================] - 27s 28ms/step - loss: 1.4371 - accuracy: 0.6239\n",
            "Epoch 23/100\n",
            "957/957 [==============================] - 27s 28ms/step - loss: 1.3776 - accuracy: 0.6337\n",
            "Epoch 24/100\n",
            "957/957 [==============================] - 27s 28ms/step - loss: 1.2860 - accuracy: 0.6583\n",
            "Epoch 25/100\n",
            "957/957 [==============================] - 27s 28ms/step - loss: 1.2453 - accuracy: 0.6682\n",
            "Epoch 26/100\n",
            "957/957 [==============================] - 27s 28ms/step - loss: 1.1833 - accuracy: 0.6812\n",
            "Epoch 27/100\n",
            "957/957 [==============================] - 27s 28ms/step - loss: 1.1311 - accuracy: 0.6946\n",
            "Epoch 28/100\n",
            "957/957 [==============================] - 27s 28ms/step - loss: 1.0844 - accuracy: 0.7057\n",
            "Epoch 29/100\n",
            "957/957 [==============================] - 27s 28ms/step - loss: 1.0359 - accuracy: 0.7173\n",
            "Epoch 30/100\n",
            "957/957 [==============================] - 27s 28ms/step - loss: 1.0163 - accuracy: 0.7220\n",
            "Epoch 31/100\n",
            "957/957 [==============================] - 27s 28ms/step - loss: 0.9690 - accuracy: 0.7342\n",
            "Epoch 32/100\n",
            "957/957 [==============================] - 27s 29ms/step - loss: 0.9449 - accuracy: 0.7392\n",
            "Epoch 33/100\n",
            "957/957 [==============================] - 27s 29ms/step - loss: 0.9454 - accuracy: 0.7386\n",
            "Epoch 34/100\n",
            "957/957 [==============================] - 27s 29ms/step - loss: 0.9084 - accuracy: 0.7469\n",
            "Epoch 35/100\n",
            "957/957 [==============================] - 28s 29ms/step - loss: 0.8752 - accuracy: 0.7567\n",
            "Epoch 36/100\n",
            "957/957 [==============================] - 27s 28ms/step - loss: 0.8514 - accuracy: 0.7633\n",
            "Epoch 37/100\n",
            "957/957 [==============================] - 27s 28ms/step - loss: 0.8291 - accuracy: 0.7665\n",
            "Epoch 38/100\n",
            "957/957 [==============================] - 27s 28ms/step - loss: 0.8175 - accuracy: 0.7700\n",
            "Epoch 39/100\n",
            "957/957 [==============================] - 27s 28ms/step - loss: 0.8003 - accuracy: 0.7785\n",
            "Epoch 40/100\n",
            "957/957 [==============================] - 27s 28ms/step - loss: 0.8092 - accuracy: 0.7740\n",
            "Epoch 41/100\n",
            "957/957 [==============================] - 27s 28ms/step - loss: 0.7889 - accuracy: 0.7789\n",
            "Epoch 42/100\n",
            "957/957 [==============================] - 27s 28ms/step - loss: 0.7892 - accuracy: 0.7766\n",
            "Epoch 43/100\n",
            "957/957 [==============================] - 27s 28ms/step - loss: 0.7575 - accuracy: 0.7876\n",
            "Epoch 44/100\n",
            "957/957 [==============================] - 27s 28ms/step - loss: 0.7618 - accuracy: 0.7860\n",
            "Epoch 45/100\n",
            "957/957 [==============================] - 27s 28ms/step - loss: 0.7430 - accuracy: 0.7932\n",
            "Epoch 46/100\n",
            "957/957 [==============================] - 27s 28ms/step - loss: 0.7279 - accuracy: 0.7975\n",
            "Epoch 47/100\n",
            "957/957 [==============================] - 27s 28ms/step - loss: 0.7444 - accuracy: 0.7879\n",
            "Epoch 48/100\n",
            "957/957 [==============================] - 27s 28ms/step - loss: 0.7415 - accuracy: 0.7882\n",
            "Epoch 49/100\n",
            "957/957 [==============================] - 27s 28ms/step - loss: 0.7159 - accuracy: 0.7969\n",
            "Epoch 50/100\n",
            "957/957 [==============================] - 27s 28ms/step - loss: 0.7164 - accuracy: 0.7939\n",
            "Epoch 51/100\n",
            "957/957 [==============================] - 27s 28ms/step - loss: 0.7111 - accuracy: 0.7974\n",
            "Epoch 52/100\n",
            "957/957 [==============================] - 27s 28ms/step - loss: 0.7007 - accuracy: 0.7980\n",
            "Epoch 53/100\n",
            "957/957 [==============================] - 27s 28ms/step - loss: 0.6967 - accuracy: 0.8023\n",
            "Epoch 54/100\n",
            "957/957 [==============================] - 27s 28ms/step - loss: 0.7031 - accuracy: 0.8015\n",
            "Epoch 55/100\n",
            "957/957 [==============================] - 27s 28ms/step - loss: 0.6840 - accuracy: 0.8068\n",
            "Epoch 56/100\n",
            "957/957 [==============================] - 27s 28ms/step - loss: 0.6876 - accuracy: 0.8044\n",
            "Epoch 57/100\n",
            "957/957 [==============================] - 27s 28ms/step - loss: 0.6897 - accuracy: 0.8011\n",
            "Epoch 58/100\n",
            "957/957 [==============================] - 27s 28ms/step - loss: 0.6825 - accuracy: 0.8053\n",
            "Epoch 59/100\n",
            "957/957 [==============================] - 27s 28ms/step - loss: 0.6740 - accuracy: 0.8063\n",
            "Epoch 60/100\n",
            "957/957 [==============================] - 27s 28ms/step - loss: 0.6649 - accuracy: 0.8079\n",
            "Epoch 61/100\n",
            "957/957 [==============================] - 27s 28ms/step - loss: 0.6730 - accuracy: 0.8079\n",
            "Epoch 62/100\n",
            "957/957 [==============================] - 27s 28ms/step - loss: 0.6535 - accuracy: 0.8105\n",
            "Epoch 63/100\n",
            "957/957 [==============================] - 27s 28ms/step - loss: 0.6710 - accuracy: 0.8068\n",
            "Epoch 64/100\n",
            "957/957 [==============================] - 27s 28ms/step - loss: 0.6543 - accuracy: 0.8117\n",
            "Epoch 65/100\n",
            "957/957 [==============================] - 27s 28ms/step - loss: 0.6777 - accuracy: 0.8054\n",
            "Epoch 66/100\n",
            "957/957 [==============================] - 27s 28ms/step - loss: 0.6655 - accuracy: 0.8071\n",
            "Epoch 67/100\n",
            "957/957 [==============================] - 27s 28ms/step - loss: 0.6517 - accuracy: 0.8101\n",
            "Epoch 68/100\n",
            "957/957 [==============================] - 27s 28ms/step - loss: 0.6606 - accuracy: 0.8114\n",
            "Epoch 69/100\n",
            "957/957 [==============================] - 27s 29ms/step - loss: 0.6462 - accuracy: 0.8100\n",
            "Epoch 70/100\n",
            "957/957 [==============================] - 27s 28ms/step - loss: 0.6552 - accuracy: 0.8070\n",
            "Epoch 71/100\n",
            "957/957 [==============================] - 27s 28ms/step - loss: 0.6319 - accuracy: 0.8166\n",
            "Epoch 72/100\n",
            "957/957 [==============================] - 27s 28ms/step - loss: 0.6467 - accuracy: 0.8100\n",
            "Epoch 73/100\n",
            "957/957 [==============================] - 27s 28ms/step - loss: 0.6577 - accuracy: 0.8065\n",
            "Epoch 74/100\n",
            "957/957 [==============================] - 27s 28ms/step - loss: 0.6425 - accuracy: 0.8120\n",
            "Epoch 75/100\n",
            "957/957 [==============================] - 27s 28ms/step - loss: 0.6218 - accuracy: 0.8192\n",
            "Epoch 76/100\n",
            "957/957 [==============================] - 27s 28ms/step - loss: 0.6437 - accuracy: 0.8115\n",
            "Epoch 77/100\n",
            "957/957 [==============================] - 27s 28ms/step - loss: 0.6435 - accuracy: 0.8119\n",
            "Epoch 78/100\n",
            "957/957 [==============================] - 27s 28ms/step - loss: 0.6272 - accuracy: 0.8186\n",
            "Epoch 79/100\n",
            "957/957 [==============================] - 27s 28ms/step - loss: 0.6422 - accuracy: 0.8098\n",
            "Epoch 80/100\n",
            "957/957 [==============================] - 27s 28ms/step - loss: 0.6314 - accuracy: 0.8119\n",
            "Epoch 81/100\n",
            "957/957 [==============================] - 27s 28ms/step - loss: 0.6421 - accuracy: 0.8132\n",
            "Epoch 82/100\n",
            "957/957 [==============================] - 27s 28ms/step - loss: 0.6337 - accuracy: 0.8108\n",
            "Epoch 83/100\n",
            "957/957 [==============================] - 27s 28ms/step - loss: 0.6166 - accuracy: 0.8146\n",
            "Epoch 84/100\n",
            "957/957 [==============================] - 27s 28ms/step - loss: 0.6217 - accuracy: 0.8161\n",
            "Epoch 85/100\n",
            "957/957 [==============================] - 27s 29ms/step - loss: 0.6248 - accuracy: 0.8170\n",
            "Epoch 86/100\n",
            "957/957 [==============================] - 27s 28ms/step - loss: 0.6402 - accuracy: 0.8113\n",
            "Epoch 87/100\n",
            "957/957 [==============================] - 27s 28ms/step - loss: 0.6326 - accuracy: 0.8107\n",
            "Epoch 88/100\n",
            "957/957 [==============================] - 27s 28ms/step - loss: 0.6304 - accuracy: 0.8114\n",
            "Epoch 89/100\n",
            "957/957 [==============================] - 27s 28ms/step - loss: 0.6296 - accuracy: 0.8123\n",
            "Epoch 90/100\n",
            "957/957 [==============================] - 27s 28ms/step - loss: 0.6126 - accuracy: 0.8187\n",
            "Epoch 91/100\n",
            "957/957 [==============================] - 27s 28ms/step - loss: 0.6195 - accuracy: 0.8178\n",
            "Epoch 92/100\n",
            "957/957 [==============================] - 28s 29ms/step - loss: 0.6342 - accuracy: 0.8117\n",
            "Epoch 93/100\n",
            "957/957 [==============================] - 27s 28ms/step - loss: 0.6181 - accuracy: 0.8158\n",
            "Epoch 94/100\n",
            "957/957 [==============================] - 27s 28ms/step - loss: 0.6003 - accuracy: 0.8205\n",
            "Epoch 95/100\n",
            "957/957 [==============================] - 27s 28ms/step - loss: 0.6279 - accuracy: 0.8137\n",
            "Epoch 96/100\n",
            "957/957 [==============================] - 27s 28ms/step - loss: 0.6166 - accuracy: 0.8181\n",
            "Epoch 97/100\n",
            "957/957 [==============================] - 27s 28ms/step - loss: 0.6126 - accuracy: 0.8199\n",
            "Epoch 98/100\n",
            "957/957 [==============================] - 27s 28ms/step - loss: 0.6102 - accuracy: 0.8191\n",
            "Epoch 99/100\n",
            "957/957 [==============================] - 27s 28ms/step - loss: 0.6005 - accuracy: 0.8220\n",
            "Epoch 100/100\n",
            "957/957 [==============================] - 27s 28ms/step - loss: 0.5986 - accuracy: 0.8192\n"
          ],
          "name": "stdout"
        }
      ]
    },
    {
      "cell_type": "markdown",
      "metadata": {
        "id": "7YoXdGiqBUV2"
      },
      "source": [
        "# Plotting Results\r\n",
        "Graphs of:\r\n",
        "* Accuracy \r\n",
        "* Loss"
      ]
    },
    {
      "cell_type": "code",
      "metadata": {
        "id": "0GAwSFQeDXTR"
      },
      "source": [
        "import matplotlib.pyplot as plt\r\n",
        "\r\n",
        "def plot_graph(history,string):\r\n",
        "    plt.plot(history.history[string])\r\n",
        "    plt.xlabel(\"Epochs\")\r\n",
        "    plt.ylabel(string)\r\n",
        "    plt.show()"
      ],
      "execution_count": 43,
      "outputs": []
    },
    {
      "cell_type": "code",
      "metadata": {
        "colab": {
          "base_uri": "https://localhost:8080/",
          "height": 279
        },
        "id": "XNjeu2HYDYrd",
        "outputId": "dad807f0-9433-4a2c-f2ca-2282451cb237"
      },
      "source": [
        "plot_graph(hist,'accuracy')"
      ],
      "execution_count": 44,
      "outputs": [
        {
          "output_type": "display_data",
          "data": {
            "image/png": "[encoded data removed]",
            "text/plain": [
              "<Figure size 432x288 with 1 Axes>"
            ]
          },
          "metadata": {
            "tags": [],
            "needs_background": "light"
          }
        }
      ]
    },
    {
      "cell_type": "code",
      "metadata": {
        "colab": {
          "base_uri": "https://localhost:8080/",
          "height": 279
        },
        "id": "htXuExrPDd-d",
        "outputId": "2b2743b2-0162-4c45-9f10-2fde07109817"
      },
      "source": [
        "plot_graph(hist,'loss')"
      ],
      "execution_count": 45,
      "outputs": [
        {
          "output_type": "display_data",
          "data": {
            "image/png": "[encoded data removed]",
            "text/plain": [
              "<Figure size 432x288 with 1 Axes>"
            ]
          },
          "metadata": {
            "tags": [],
            "needs_background": "light"
          }
        }
      ]
    },
    {
      "cell_type": "markdown",
      "metadata": {
        "id": "1_kL-dkCBhbO"
      },
      "source": [
        "# Generating Lyrics\r\n",
        "From the trained model we will now generate the lyrics.\r\n",
        "\r\n",
        "We would need to pass a word(s) and the total size of expected prediction in the **gen_lyrics()** function."
      ]
    },
    {
      "cell_type": "code",
      "metadata": {
        "id": "H5Gs-VuRDgih"
      },
      "source": [
        "def gen_lyrics(seed_text, total_words):\r\n",
        "    for _ in range(total_words-1):\r\n",
        "        token_list = tok.texts_to_sequences([seed_text])[0]\r\n",
        "        token_list = pad_sequences([token_list], maxlen=max_sequence_len-1, padding='pre')\r\n",
        "        predicted = np.argmax(model.predict(token_list, verbose=0), axis=-1)\r\n",
        "        output_word = \"\"\r\n",
        "        for word, index in tok.word_index.items():\r\n",
        "            if index == predicted:\r\n",
        "                output_word = word\r\n",
        "                break\r\n",
        "        seed_text += \" \" + output_word\r\n",
        "    print(seed_text)"
      ],
      "execution_count": 46,
      "outputs": []
    },
    {
      "cell_type": "code",
      "metadata": {
        "colab": {
          "base_uri": "https://localhost:8080/"
        },
        "id": "NClvzFMCDie9",
        "outputId": "f2babae6-ab9a-42db-b284-a5508376a2b0"
      },
      "source": [
        "gen_lyrics(\"Hello\",10)"
      ],
      "execution_count": 47,
      "outputs": [
        {
          "output_type": "stream",
          "text": [
            "Hello to a redhead named abigail covers flying in your\n"
          ],
          "name": "stdout"
        }
      ]
    },
    {
      "cell_type": "code",
      "metadata": {
        "colab": {
          "base_uri": "https://localhost:8080/"
        },
        "id": "gzcXtexvEda4",
        "outputId": "bb4f675e-19da-416a-ee0e-7ee697af31c4"
      },
      "source": [
        "gen_lyrics(\"Singing\",10)"
      ],
      "execution_count": 48,
      "outputs": [
        {
          "output_type": "stream",
          "text": [
            "Singing long live all the mountains we moved down you\n"
          ],
          "name": "stdout"
        }
      ]
    },
    {
      "cell_type": "code",
      "metadata": {
        "colab": {
          "base_uri": "https://localhost:8080/"
        },
        "id": "Ddpzig5EEgqs",
        "outputId": "5ea867f4-fb68-45cd-ab90-1b37e9496f37"
      },
      "source": [
        "gen_lyrics(\"Singing Alone\",15)"
      ],
      "execution_count": 49,
      "outputs": [
        {
          "output_type": "stream",
          "text": [
            "Singing Alone yeah we can shake shake you cab to go and i did too gonna\n"
          ],
          "name": "stdout"
        }
      ]
    },
    {
      "cell_type": "code",
      "metadata": {
        "colab": {
          "base_uri": "https://localhost:8080/"
        },
        "id": "a3Fd2HKrElLE",
        "outputId": "453b8035-0b88-400e-9084-780ca3cf2a11"
      },
      "source": [
        "gen_lyrics(\"I am going to\",12)"
      ],
      "execution_count": 50,
      "outputs": [
        {
          "output_type": "stream",
          "text": [
            "I am going to see you back at my front door trying to block you\n"
          ],
          "name": "stdout"
        }
      ]
    },
    {
      "cell_type": "code",
      "metadata": {
        "colab": {
          "base_uri": "https://localhost:8080/"
        },
        "id": "Vms-3ktgEvnE",
        "outputId": "1278199e-9926-48db-c605-a323e689d11c"
      },
      "source": [
        "gen_lyrics(\"Marry me Juliet\",12)"
      ],
      "execution_count": 51,
      "outputs": [
        {
          "output_type": "stream",
          "text": [
            "Marry me Juliet like i don't know you do i don't think you do\n"
          ],
          "name": "stdout"
        }
      ]
    },
    {
      "cell_type": "code",
      "metadata": {
        "colab": {
          "base_uri": "https://localhost:8080/"
        },
        "id": "AkCEMLcrFE8V",
        "outputId": "3b14bfbc-3c35-4f2c-eb35-0c3683a05a3b"
      },
      "source": [
        "gen_lyrics(\"He said the\",12)"
      ],
      "execution_count": 52,
      "outputs": [
        {
          "output_type": "stream",
          "text": [
            "He said the way my blue eyes shine from my mind i tried to\n"
          ],
          "name": "stdout"
        }
      ]
    },
    {
      "cell_type": "code",
      "metadata": {
        "colab": {
          "base_uri": "https://localhost:8080/"
        },
        "id": "FXAL3M-1FRc9",
        "outputId": "f95b1f57-c8d7-4b0e-934c-6bd161bb2581"
      },
      "source": [
        "gen_lyrics(\"Georgia stars\",12)"
      ],
      "execution_count": 53,
      "outputs": [
        {
          "output_type": "stream",
          "text": [
            "Georgia stars to lose your girl at you do like we're jaguars if\n"
          ],
          "name": "stdout"
        }
      ]
    },
    {
      "cell_type": "markdown",
      "metadata": {
        "id": "EeLSmLLfCWvP"
      },
      "source": [
        "# Future Vision\r\n",
        "\r\n",
        "This is a very basic approach to start with, we can add more data to increase the prediction quality. Moreover, we can use some different architecture and work more intensively as well.\r\n",
        "\r\n",
        "I did this project as a 'Weekend Skills Brush-up\". I will be trying to push this ahead someday later.\r\n",
        "\r\n",
        "Feel free to reproduce and make it better. Also, do let me know about it.\r\n"
      ]
    },
    {
      "cell_type": "markdown",
      "metadata": {
        "id": "cp7LlNzsEG2T"
      },
      "source": [
        "# Ways to reach me: \r\n",
        "\r\n",
        "<p align=\"left\">\r\n",
        "<a href=\"www.linkedin.com/in/aravind-naidu\" target=\"blank\"><img align=\"center\" src=\"https://cdn.jsdelivr.net/npm/simple-icons@3.0.1/icons/linkedin.svg\" alt=\"aravindnaidulinkedin\" height=\"40\" width=\"40\" /></a>\r\n",
        "<a href=\"https://www.instagram.com/aravind.naidu/\" target=\"blank\"><img align=\"center\" src=\"https://cdn.jsdelivr.net/npm/simple-icons@3.0.1/icons/instagram.svg\" alt=\"aravindnaiduinstagram\" height=\"40\" width=\"40\" /></a>\r\n",
        "<a href=\"https://medium.com/@aravind.ai\" target=\"blank\"><img align=\"center\" src=\"https://cdn.jsdelivr.net/npm/simple-icons@3.0.1/icons/medium.svg\" alt=\"aravindnaidumedium\" height=\"40\" width=\"40\" /></a>\r\n",
        "<a href=\"https://twitter.com/aravind_ml\" target=\"blank\"><img align=\"center\" src=\"https://cdn.jsdelivr.net/npm/simple-icons@3.0.1/icons/twitter.svg\" alt=\"aravindnaidutwitter\" height=\"40\" width=\"40\" /></a>\r\n",
        "</p>\r\n"
      ]
    }
  ]
}